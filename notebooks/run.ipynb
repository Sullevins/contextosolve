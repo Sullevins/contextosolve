{
 "cells": [
  {
   "cell_type": "code",
   "execution_count": 27,
   "id": "67e53669",
   "metadata": {},
   "outputs": [],
   "source": [
    "!pip install seaborn"
   ]
  },
  {
   "cell_type": "code",
   "execution_count": 1,
   "id": "fccce30e-725a-4c35-9382-b177232de919",
   "metadata": {},
   "outputs": [],
   "source": [
    "import sys\n",
    "sys.path.append('..')"
   ]
  },
  {
   "cell_type": "code",
   "execution_count": 128,
   "id": "e4620afc",
   "metadata": {},
   "outputs": [],
   "source": [
    "from contexto.guess import Finder\n",
    "import numpy as np\n",
    "import seaborn as sns\n",
    "from sklearn.manifold import TSNE\n",
    "import matplotlib.pyplot as plt\n"
   ]
  },
  {
   "cell_type": "code",
   "execution_count": 130,
   "id": "7a99fd91",
   "metadata": {},
   "outputs": [],
   "source": [
    "embedding = TSNE(n_components=2, learning_rate='auto', metric=\"cosine\").fit_transform(Finder().embeddings)"
   ]
  },
  {
   "cell_type": "code",
   "execution_count": 281,
   "id": "20bb23f7",
   "metadata": {},
   "outputs": [],
   "source": [
    "def plot(scores, save_id=None):\n",
    "    is_selected = scores > 0\n",
    "\n",
    "    plt.figure(figsize=(15,8))\n",
    "\n",
    "    not_selected_embedding = embedding[~is_selected]\n",
    "    selected_embedding = embedding[is_selected]\n",
    "\n",
    "    top_score = max(scores)\n",
    "\n",
    "    top_embedding = embedding[scores == top_score][:1]\n",
    "\n",
    "\n",
    "    ax = sns.scatterplot(\n",
    "        x=not_selected_embedding[:, 0],\n",
    "        y=not_selected_embedding[:, 1],\n",
    "        legend=\"\",\n",
    "        size=1,\n",
    "        hue=0.1,\n",
    "    )\n",
    "\n",
    "    ax = sns.scatterplot(\n",
    "        x=selected_embedding[:, 0],\n",
    "        y=selected_embedding[:, 1],\n",
    "        size=scores[is_selected],\n",
    "        # hue=scores[is_selected],\n",
    "        hue=0,\n",
    "        legend=\"\",\n",
    "        ax=ax\n",
    "    )\n",
    "\n",
    "    ax = sns.scatterplot(\n",
    "        x=top_embedding[:, 0],\n",
    "        y=top_embedding[:, 1],\n",
    "        ax=ax,\n",
    "    )\n",
    "\n",
    "    ax = sns.scatterplot(\n",
    "        x=top_embedding[:, 0],\n",
    "        y=top_embedding[:, 1],\n",
    "        ax=ax,\n",
    "    )\n",
    "\n",
    "    plt.tight_layout()\n",
    "\n",
    "\n",
    "    # remove axis\n",
    "    ax.set_xticks([])\n",
    "    ax.set_yticks([])\n",
    "\n",
    "    if save_id is not None:\n",
    "        plt.savefig(f'../plots/{save_id:02d}.png')\n",
    "    else:\n",
    "        plt.show()"
   ]
  },
  {
   "cell_type": "code",
   "execution_count": 275,
   "id": "8bb22475",
   "metadata": {},
   "outputs": [],
   "source": [
    "def score(guesses):\n",
    "    finder = Finder()\n",
    "    for guess, rank in guesses:\n",
    "        finder.add_result(guess, rank)\n",
    "    scores = finder.get_score(\n",
    "        guesses=guesses,\n",
    "        word_to_distances=finder.word_to_distances,\n",
    "        min_gap=0.2,\n",
    "        num_samples=1000\n",
    "    )\n",
    "    already_guessed_masked = finder.already_guessed_mask(guesses)\n",
    "    scores[already_guessed_masked] = 0\n",
    "    best_scores_masked = finder.best_scores(guesses=guesses, word_to_distances=finder.word_to_distances, top=100)\n",
    "    scores[~best_scores_masked] = 0\n",
    "\n",
    "    top_score = max(scores)\n",
    "    closest_ids = list(np.arange(len(finder.words))[scores == top_score])\n",
    "    return scores, [finder.words[idx] for idx in closest_ids]\n"
   ]
  },
  {
   "cell_type": "code",
   "execution_count": 276,
   "id": "470dc398",
   "metadata": {},
   "outputs": [],
   "source": [
    "def process(guesses):\n",
    "    scores, suggestion = score(guesses)\n",
    "    print(\"Guesses: \", suggestion[:5])\n",
    "    plot(scores)\n"
   ]
  },
  {
   "cell_type": "code",
   "execution_count": null,
   "id": "4dff06d4",
   "metadata": {},
   "outputs": [],
   "source": [
    "process([\n",
    "    ('human', ...),\n",
    "])"
   ]
  },
  {
   "cell_type": "code",
   "execution_count": null,
   "id": "51a15483",
   "metadata": {},
   "outputs": [],
   "source": []
  }
 ],
 "metadata": {
  "kernelspec": {
   "display_name": "Python 3 (ipykernel)",
   "language": "python",
   "name": "python3"
  },
  "language_info": {
   "codemirror_mode": {
    "name": "ipython",
    "version": 3
   },
   "file_extension": ".py",
   "mimetype": "text/x-python",
   "name": "python",
   "nbconvert_exporter": "python",
   "pygments_lexer": "ipython3",
   "version": "3.10.6"
  }
 },
 "nbformat": 4,
 "nbformat_minor": 5
}
